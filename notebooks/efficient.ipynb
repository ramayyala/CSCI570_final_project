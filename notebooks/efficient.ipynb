{
 "cells": [
  {
   "cell_type": "code",
   "execution_count": 1,
   "metadata": {},
   "outputs": [],
   "source": [
    "import sys \n",
    "import numpy as np\n",
    "from resource import * \n",
    "import time\n",
    "import psutil\n",
    "import os "
   ]
  },
  {
   "cell_type": "code",
   "execution_count": 2,
   "metadata": {},
   "outputs": [],
   "source": [
    "def input_read(file):\n",
    "    base_strings = []\n",
    "    index_1 = []\n",
    "    index_2 = []\n",
    "    j=0\n",
    "    k=0\n",
    "    string_counter=0\n",
    "    with open(file,\"r\") as f:\n",
    "        for line in f.readlines():\n",
    "            #remove all whitespaces in text file from reading in line by line \n",
    "            line=line.strip()\n",
    "            # select only the base sequence to append to the sequence list \n",
    "            if not line.isnumeric():\n",
    "                base_strings.append(line)\n",
    "                #counter to make sure we are only appending strings not not the indices \n",
    "                string_counter+=1\n",
    "            ##if the line is not a base sequence, then it is an index\n",
    "            else:\n",
    "                #if the string counter ==2, then that means are appending the second set of indices\n",
    "                if string_counter == 2:\n",
    "                    index_2.append(int(line))\n",
    "                    k+=1\n",
    "                #if the string !=2, then that means we are appending the first set of indices \n",
    "                else:\n",
    "                    index_1.append(int(line))\n",
    "                    j+=1\n",
    "    return base_strings,index_1,index_2,k,j"
   ]
  },
  {
   "cell_type": "code",
   "execution_count": 3,
   "metadata": {},
   "outputs": [],
   "source": [
    "def generate_sequences(base_strings,index_1,index_2,k,j):\n",
    "    sequences=[]\n",
    "    seq1=base_strings[0]\n",
    "    seq2=base_strings[1]\n",
    "    ##check if its string 1 or string 2 we are using \n",
    "    for i in index_1:\n",
    "        seq1 = seq1[0:i+1] + seq1 + seq1[i+1:]\n",
    "    if len(seq1) == (2**j)*len(base_strings[0]):\n",
    "        sequences.append(seq1)\n",
    "    for i in index_2:\n",
    "        seq2 = seq2[0:i+1] + seq2 + seq2[i+1:]\n",
    "    if len(seq2) == (2**k)*len(base_strings[1]):   \n",
    "        sequences.append(seq2)\n",
    "    return sequences\n",
    "\n",
    "        "
   ]
  },
  {
   "cell_type": "code",
   "execution_count": 7,
   "metadata": {},
   "outputs": [],
   "source": [
    "def mismatch_penalty(base_1,base_2):\n",
    "    nucs=\"ACGT\"\n",
    "    index_1=nucs.index(base_1)\n",
    "    index_2=nucs.index(base_2)\n",
    "    mismatch_matrix = [[0,110,48,94],\n",
    "                        [110,0,118,48],\n",
    "                        [48,118,0,110],\n",
    "                        [94,48,110,0]]\n",
    "    return mismatch_matrix[index_1][index_2]"
   ]
  },
  {
   "cell_type": "code",
   "execution_count": 20,
   "metadata": {},
   "outputs": [],
   "source": [
    "def alignment(seq1,seq2):\n",
    "    # set value of gaps \n",
    "    gap_pen=30\n",
    "    # build dp table\n",
    "    m=len(seq1)\n",
    "    n=len(seq2)\n",
    "    dp = np.zeros([m+1,n+1], dtype=int)\n",
    "    #initialize dp table \n",
    "    dp[0:(m+1),0] = [i*gap_pen for i in range(m+1)]\n",
    "    dp[0,0:(n+1)] = [j*gap_pen for j in range(n+1)]\n",
    "    #fill dp table with penalty scores \n",
    "    for i in range(1,m+1):\n",
    "        for j in range(1,n+1):\n",
    "            # if the nucs are equal to each other \n",
    "            if seq1[i-1] == seq2[j-1]:\n",
    "                dp[i][j] = dp[i-1][j-1]\n",
    "            # if the nucs don't match each other, then find min of the potential penalties \n",
    "            else:\n",
    "                dp[i][j] = min(dp[i-1][j-1] + mismatch_penalty(seq1[i-1],seq2[j-1]),\n",
    "                                dp[i-1][j] + gap_pen,\n",
    "                                dp[i][j-1] + gap_pen)\n",
    "    \n",
    "    # find optimal path from dp table \n",
    "    i= m\n",
    "    j= n\n",
    "    #tracing path \n",
    "    seq1_list=[]\n",
    "    seq2_list=[]\n",
    "    while i!=0 or j!=0:\n",
    "        #case 1: seq2 has gap \n",
    "        if dp[i][j]==dp[i-1][j]+gap_pen:\n",
    "            seq1_list.append(seq1[i-1])\n",
    "            seq2_list.append('_')\n",
    "            i-=1\n",
    "        #case 2: seq1 has gap \n",
    "        elif dp[i][j]==dp[i][j-1]+gap_pen:\n",
    "            seq1_list.append('_')\n",
    "            seq2_list.append(seq2[j-1])\n",
    "            j-=1\n",
    "\n",
    "        #case 3: nucs match, so no penalty or nucs mismatch, but penalty is already accounted for so same path \n",
    "        else:\n",
    "            seq1_list.append(seq1[i-1])\n",
    "            seq2_list.append(seq2[j-1])\n",
    "            i-=1\n",
    "            j-=1\n",
    "\n",
    "\n",
    "    s1_final=''\n",
    "    s2_final=''\n",
    "    for k in range(len(seq1_list)):\n",
    "        s1_final += seq1_list.pop()\n",
    "        s2_final += seq2_list.pop()\n",
    "    seq = [s1_final, s2_final]\n",
    "    return dp[m][n],seq"
   ]
  },
  {
   "cell_type": "code",
   "execution_count": 6,
   "metadata": {},
   "outputs": [],
   "source": [
    "inputs=input_read(\"../data/SampleTestCases/input1.txt\")\n",
    "test=generate_sequences(inputs[0],inputs[1],inputs[2],inputs[3],inputs[4])"
   ]
  },
  {
   "cell_type": "code",
   "execution_count": 22,
   "metadata": {},
   "outputs": [
    {
     "name": "stdout",
     "output_type": "stream",
     "text": [
      "dlroW olleH\n"
     ]
    }
   ],
   "source": [
    "txt = \"Hello World\" [::-1]\n",
    "print(txt)"
   ]
  },
  {
   "cell_type": "code",
   "execution_count": 25,
   "metadata": {},
   "outputs": [],
   "source": [
    "def dc_alignment(seq1,seq2):\n",
    "    gap_pen=30 \n",
    "    m=len(seq1)\n",
    "    n=len(seq2)\n",
    "    #if the length of the sequences is less than 2, then just use the dp algorithm as a bound \n",
    "    if n<=2 or m<=2:\n",
    "        return alignment(seq1,seq2)\n",
    "    f = np.zeros((m + 1, 2))\n",
    "    g = np.zeros((m + 1, 2))\n",
    "\n",
    "    for i in range(m + 1):\n",
    "        f[i, 0] = i * gap_pen\n",
    "    for j in range(1, n // 2 + 1):\n",
    "        f[0, 1] = j * gap_pen\n",
    "        for i in range(1, m + 1):\n",
    "            f[i, 1] = min(f[i - 1, 0] + mismatch_penalty(seq1[i-1],seq2[j-1]),\n",
    "                            f[i - 1, 1] + gap_pen,\n",
    "                            f[i, 0] + gap_pen)\n",
    "        for i in range(m+1):\n",
    "            f[i,0]=f[i,1]\n",
    "    \n",
    "    seq1_inv=seq1[::-1]\n",
    "    seq2_inv=seq2[::-1]\n",
    "    for i in range(m + 1):\n",
    "        g[i, 0] = i * gap_pen\n",
    "    for j in range(1, n // 2 + 1):\n",
    "        g[0, 1] = j * gap_pen\n",
    "        for i in range(1, m + 1):\n",
    "            g[i, 1] = min(g[i - 1, 0] + mismatch_penalty(seq1_inv[m-i],seq2_inv[n-j]),\n",
    "                            g[i - 1, 1] + gap_pen,\n",
    "                            g[i, 0] + gap_pen)\n",
    "        for i in range(m+1):\n",
    "            g[i,0]=f[i,1]\n",
    "    q = 0\n",
    "    for i in range(m + 1):\n",
    "        if f[i, 0] + g[m - i, 0] < f[q, 0] + g[m - q, 0]:\n",
    "            q = i\n",
    "    # print(f[q, 0] + g[m - q, 0])\n",
    "    alignment_x1, alignment_y1 = dc_alignment(seq1[:q], seq2[:n // 2])\n",
    "    alignment_x2, alignment_y2 = dc_alignment(seq1[q:], seq2[n // 2:])\n",
    "    return alignment_x1 + alignment_x2, alignment_y1 + alignment_y2\n",
    "    \n",
    "    "
   ]
  },
  {
   "cell_type": "code",
   "execution_count": 26,
   "metadata": {},
   "outputs": [
    {
     "data": {
      "text/plain": [
       "(1968,\n",
       " ['_A__',\n",
       "  'TATT',\n",
       "  'CA_',\n",
       "  '_AT',\n",
       "  'CA',\n",
       "  'TA',\n",
       "  '__C_',\n",
       "  'TACG',\n",
       "  '_T',\n",
       "  'CT',\n",
       "  'GACTA',\n",
       "  '_A_T_',\n",
       "  'C_T_',\n",
       "  'TATA',\n",
       "  '_G_A',\n",
       "  'CGCG',\n",
       "  '_C',\n",
       "  'AC',\n",
       "  'TG_',\n",
       "  '_GC',\n",
       "  'G_',\n",
       "  'GG',\n",
       "  'TGAC',\n",
       "  '__AC',\n",
       "  '__',\n",
       "  'GC',\n",
       "  '_TAC',\n",
       "  'GT__',\n",
       "  '_T',\n",
       "  'AT',\n",
       "  'GAC',\n",
       "  '_AC',\n",
       "  '_T',\n",
       "  'GC',\n",
       "  '_GGACT',\n",
       "  'T__A__',\n",
       "  '__',\n",
       "  'TT',\n",
       "  'GACTACT',\n",
       "  '_A_T___',\n",
       "  'GA_',\n",
       "  '_AC',\n",
       "  '_CTG',\n",
       "  'GC__',\n",
       "  'G_',\n",
       "  'GA',\n",
       "  'TGAC',\n",
       "  'CG__',\n",
       "  'T__A',\n",
       "  'CGGA',\n",
       "  'CTG',\n",
       "  'C_G',\n",
       "  'ACTGG',\n",
       "  '_C_G_'])"
      ]
     },
     "execution_count": 26,
     "metadata": {},
     "output_type": "execute_result"
    }
   ],
   "source": [
    "dc_alignment(test[0],test[1])"
   ]
  },
  {
   "cell_type": "code",
   "execution_count": 14,
   "metadata": {},
   "outputs": [
    {
     "data": {
      "text/plain": [
       "'_A__CA_CA__C__TGACTAC_T__G_A_CTG_G_TGAC___TAC_TGAC_T_GGACT__GACTACTGA__CTGG_TGACT__ACTGACTGG'"
      ]
     },
     "execution_count": 14,
     "metadata": {},
     "output_type": "execute_result"
    }
   ],
   "source": [
    "output1[0]"
   ]
  },
  {
   "cell_type": "code",
   "execution_count": 17,
   "metadata": {},
   "outputs": [
    {
     "name": "stdout",
     "output_type": "stream",
     "text": [
      "1968\n"
     ]
    }
   ],
   "source": [
    "mismatch=0\n",
    "gap=0\n",
    "for i in range(len(output1[0])):\n",
    "    if output1[0][i]!=output1[1][i]:\n",
    "        if output1[0][i]=='_' or output1[1][i]=='_':\n",
    "            gap+=30\n",
    "        else:\n",
    "            mismatch+=mismatch_penalty(output1[0][i],output1[1][i])\n",
    "score=mismatch+gap\n",
    "print(score)\n",
    "    "
   ]
  },
  {
   "cell_type": "code",
   "execution_count": 21,
   "metadata": {},
   "outputs": [],
   "source": [
    "m=len(test[0])\n",
    "n=len(test[1])\n",
    "gap_pen=30 \n",
    "f = np.zeros((m + 1, 2))\n",
    "g = np.zeros((m + 1, 2))\n",
    "for i in range(m + 1):\n",
    "        f[i, 0] = i * gap_pen"
   ]
  },
  {
   "cell_type": "code",
   "execution_count": 20,
   "metadata": {},
   "outputs": [
    {
     "data": {
      "text/plain": [
       "2"
      ]
     },
     "execution_count": 20,
     "metadata": {},
     "output_type": "execute_result"
    }
   ],
   "source": [
    "for j in range(1, n // 2 + 1):\n",
    "    f[0, 1] = j * gap_pen\n",
    "    for i in range(1, m + 1):\n",
    "        f[i, 1] = min(f[i - 1, 0] + mismatch_penalty[i-1][j-1],\n",
    "                          f[i - 1, 1] + gap_pen,\n",
    "                          f[i, 0] + gap_pen)"
   ]
  }
 ],
 "metadata": {
  "kernelspec": {
   "display_name": "Python 3.9.7 ('base')",
   "language": "python",
   "name": "python3"
  },
  "language_info": {
   "codemirror_mode": {
    "name": "ipython",
    "version": 3
   },
   "file_extension": ".py",
   "mimetype": "text/x-python",
   "name": "python",
   "nbconvert_exporter": "python",
   "pygments_lexer": "ipython3",
   "version": "3.8.8"
  },
  "orig_nbformat": 4,
  "vscode": {
   "interpreter": {
    "hash": "a5887580c7cbb0fe8c117cf89484cb0db59155905523768f16ba2f70bd8e79c7"
   }
  }
 },
 "nbformat": 4,
 "nbformat_minor": 2
}
