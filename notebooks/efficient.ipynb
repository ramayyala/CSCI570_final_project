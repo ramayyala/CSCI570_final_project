{
 "cells": [
  {
   "cell_type": "code",
   "execution_count": 2,
   "metadata": {
    "datalore": {
     "hide_input_from_viewers": false,
     "hide_output_from_viewers": false,
     "node_id": "SaoAY3bGkXhhmVMeawRVNS",
     "report_properties": {},
     "type": "CODE"
    }
   },
   "outputs": [],
   "source": [
    "import sys \n",
    "import numpy as np\n",
    "from resource import * \n",
    "import time\n",
    "import psutil\n",
    "import os "
   ]
  },
  {
   "cell_type": "code",
   "execution_count": 3,
   "metadata": {
    "datalore": {
     "hide_input_from_viewers": false,
     "hide_output_from_viewers": false,
     "node_id": "1cjqsolwBONif9WBeEm7Mo",
     "report_properties": {},
     "type": "CODE"
    }
   },
   "outputs": [],
   "source": [
    "def input_read(file):\n",
    "    base_strings = []\n",
    "    index_1 = []\n",
    "    index_2 = []\n",
    "    j=0\n",
    "    k=0\n",
    "    string_counter=0\n",
    "    with open(file,\"r\") as f:\n",
    "        for line in f.readlines():\n",
    "            #remove all whitespaces in text file from reading in line by line \n",
    "            line=line.strip()\n",
    "            # select only the base sequence to append to the sequence list \n",
    "            if not line.isnumeric():\n",
    "                base_strings.append(line)\n",
    "                #counter to make sure we are only appending strings not not the indices \n",
    "                string_counter+=1\n",
    "            ##if the line is not a base sequence, then it is an index\n",
    "            else:\n",
    "                #if the string counter ==2, then that means are appending the second set of indices\n",
    "                if string_counter == 2:\n",
    "                    index_2.append(int(line))\n",
    "                    k+=1\n",
    "                #if the string !=2, then that means we are appending the first set of indices \n",
    "                else:\n",
    "                    index_1.append(int(line))\n",
    "                    j+=1\n",
    "    return base_strings,index_1,index_2,k,j"
   ]
  },
  {
   "cell_type": "code",
   "execution_count": 4,
   "metadata": {
    "datalore": {
     "hide_input_from_viewers": false,
     "hide_output_from_viewers": false,
     "node_id": "jSieBnbnEBsKciutL4Bclk",
     "report_properties": {},
     "type": "CODE"
    }
   },
   "outputs": [],
   "source": [
    "def generate_sequences(base_strings,index_1,index_2,k,j):\n",
    "    sequences=[]\n",
    "    seq1=base_strings[0]\n",
    "    seq2=base_strings[1]\n",
    "    ##check if its string 1 or string 2 we are using \n",
    "    for i in index_1:\n",
    "        seq1 = seq1[0:i+1] + seq1 + seq1[i+1:]\n",
    "    if len(seq1) == (2**j)*len(base_strings[0]):\n",
    "        sequences.append(seq1)\n",
    "    for i in index_2:\n",
    "        seq2 = seq2[0:i+1] + seq2 + seq2[i+1:]\n",
    "    if len(seq2) == (2**k)*len(base_strings[1]):   \n",
    "        sequences.append(seq2)\n",
    "    return sequences\n",
    "\n",
    "        "
   ]
  },
  {
   "cell_type": "code",
   "execution_count": 5,
   "metadata": {
    "datalore": {
     "hide_input_from_viewers": false,
     "hide_output_from_viewers": false,
     "node_id": "fuBVTPXioUmIee121F1yPE",
     "report_properties": {},
     "type": "CODE"
    }
   },
   "outputs": [],
   "source": [
    "mismatch_matrix = [[0,110,48,94],\n",
    "                        [110,0,118,48],\n",
    "                        [48,118,0,110],\n",
    "                        [94,48,110,0]]\n",
    "nuc_dict={\n",
    "        'A' : 0,\n",
    "        'C' : 1,\n",
    "        'G' : 2,\n",
    "        'T' : 3\n",
    "    }\n",
    "def mismatch_penalty(base_1,base_2,nuc_lib, mis_matrix):\n",
    "    return mis_matrix[nuc_lib[base_1]][nuc_lib[base_2]]"
   ]
  },
  {
   "cell_type": "code",
   "execution_count": 6,
   "metadata": {
    "datalore": {
     "hide_input_from_viewers": false,
     "hide_output_from_viewers": false,
     "node_id": "EZWQyZvvLS5JWF9lsyAPjQ",
     "report_properties": {},
     "type": "CODE"
    }
   },
   "outputs": [],
   "source": [
    "def alignment(seq1,seq2):\n",
    "    # set value of gaps \n",
    "    gap_pen=30\n",
    "    # build dp table\n",
    "    m=len(seq1)\n",
    "    n=len(seq2)\n",
    "    dp = np.zeros([m+1,n+1], dtype=int)\n",
    "    #initialize dp table \n",
    "    dp[0:(m+1),0] = [i*gap_pen for i in range(m+1)]\n",
    "    dp[0,0:(n+1)] = [j*gap_pen for j in range(n+1)]\n",
    "    #fill dp table with penalty scores \n",
    "    for i in range(1,m+1):\n",
    "        for j in range(1,n+1):\n",
    "            # if the nucs are equal to each other \n",
    "            if seq1[i-1] == seq2[j-1]:\n",
    "                dp[i][j] = dp[i-1][j-1]\n",
    "            # if the nucs don't match each other, then find min of the potential penalties \n",
    "            else:\n",
    "                dp[i][j] = min(dp[i-1][j-1] + mismatch_penalty(seq1[i-1],seq2[j-1], nuc_dict, mismatch_matrix),\n",
    "                                dp[i-1][j] + gap_pen,\n",
    "                                dp[i][j-1] + gap_pen)\n",
    "    \n",
    "    # find optimal path from dp table \n",
    "    i= m\n",
    "    j= n\n",
    "    #tracing path \n",
    "    seq1_list=[]\n",
    "    seq2_list=[]\n",
    "    while i!=0 or j!=0:\n",
    "        #case 1: seq2 has gap \n",
    "        if dp[i][j]==dp[i-1][j]+gap_pen:\n",
    "            seq1_list.append(seq1[i-1])\n",
    "            seq2_list.append('_')\n",
    "            i-=1\n",
    "        #case 2: seq1 has gap \n",
    "        elif dp[i][j]==dp[i][j-1]+gap_pen:\n",
    "            seq1_list.append('_')\n",
    "            seq2_list.append(seq2[j-1])\n",
    "            j-=1\n",
    "\n",
    "        #case 3: nucs match, so no penalty or nucs mismatch, but penalty is already accounted for so same path \n",
    "        else:\n",
    "            seq1_list.append(seq1[i-1])\n",
    "            seq2_list.append(seq2[j-1])\n",
    "            i-=1\n",
    "            j-=1\n",
    "\n",
    "\n",
    "    s1_final=''\n",
    "    s2_final=''\n",
    "    for k in range(len(seq1_list)):\n",
    "        s1_final += seq1_list.pop()\n",
    "        s2_final += seq2_list.pop()\n",
    "    seq = [s1_final, s2_final]\n",
    "    return seq"
   ]
  },
  {
   "cell_type": "code",
   "execution_count": 9,
   "metadata": {
    "datalore": {
     "hide_input_from_viewers": false,
     "hide_output_from_viewers": false,
     "node_id": "rKLSIM7oJzUgIRtqjfQXOq",
     "report_properties": {},
     "type": "CODE"
    }
   },
   "outputs": [],
   "source": [
    "inputs=input_read(\"../data/datapoints/in14.txt\")\n",
    "test=generate_sequences(inputs[0],inputs[1],inputs[2],inputs[3],inputs[4])\n"
   ]
  },
  {
   "cell_type": "code",
   "execution_count": 12,
   "metadata": {
    "datalore": {
     "hide_input_from_viewers": false,
     "hide_output_from_viewers": false,
     "node_id": "btyVzholKk9OZ7idmfI8J0",
     "report_properties": {},
     "type": "CODE"
    }
   },
   "outputs": [],
   "source": [
    "def dc_alignment(seq1,seq2):\n",
    "    gap_pen=30 \n",
    "    m=len(seq1)\n",
    "    n=len(seq2)\n",
    "    #if the length of the sequences is less than 2, then just use the dp algorithm as a bound \n",
    "    if n<=2 or m<=2:\n",
    "        return alignment(seq1,seq2)\n",
    "    f = np.zeros((m + 1, 2))\n",
    "    g = np.zeros((m + 1, 2))\n",
    "\n",
    "    if n%2==0:\n",
    "        front_len=n//2\n",
    "        back_len=n//2\n",
    "    else:\n",
    "        front_len=n//2+1\n",
    "        back_len=n//2\n",
    "\n",
    "\n",
    "    for i in range(m + 1):\n",
    "        f[i, 0] = i * gap_pen\n",
    "\n",
    "    for j in range(1, front_len+1):\n",
    "        f[0, 1] = j * gap_pen\n",
    "        for i in range(1, m + 1):\n",
    "            f[i, 1] = min(f[i - 1, 0] + mismatch_penalty(seq1[i-1],seq2[j-1], nuc_dict, mismatch_matrix),\n",
    "                            f[i - 1, 1] + gap_pen,\n",
    "                            f[i, 0] + gap_pen)\n",
    "        f=np.flip(f,1)\n",
    "    \n",
    "    #reverse the strings\n",
    "    seq1_inv=seq1[::-1]\n",
    "    seq2_inv=seq2[::-1]\n",
    "\n",
    "    for i in range(m + 1):\n",
    "        g[i, 0] = i * gap_pen\n",
    "\n",
    "    for j in range(1, back_len+1):\n",
    "        g[0, 1] = j * gap_pen\n",
    "        for i in range(1, m + 1):\n",
    "            g[i, 1] = min(g[i - 1, 0] + mismatch_penalty(seq1_inv[i-1],seq2_inv[j-1], nuc_dict, mismatch_matrix),\n",
    "                            g[i - 1, 1] + gap_pen,\n",
    "                            g[i, 0] + gap_pen)\n",
    "        g=np.flip(g,1)\n",
    "    q = 0\n",
    "    for i in range(m + 1):\n",
    "        if f[i, 0] + g[m - i, 0] < f[q, 0] + g[m - q, 0]:\n",
    "            q = i\n",
    "    # print(f[q, 0] + g[m - q, 0])\n",
    "    #print(\"F table:\")\n",
    "    #print(f)\n",
    "    #print(\"G table:\")\n",
    "    #print(g)\n",
    "    alignment_x1, alignment_y1 = dc_alignment(seq1[:q], seq2[:front_len])\n",
    "    alignment_x2, alignment_y2 = dc_alignment(seq1[q:], seq2[front_len:])\n",
    "    return alignment_x1 + alignment_x2, alignment_y1 + alignment_y2\n",
    "    \n",
    "    "
   ]
  },
  {
   "cell_type": "code",
   "execution_count": 17,
   "metadata": {},
   "outputs": [],
   "source": [
    "def score(output):\n",
    "    mismatch=0\n",
    "    gap=0\n",
    "    for i in range(len(output[0])):\n",
    "        if output[0][i]!=output[1][i]:\n",
    "            if output[0][i]=='_' or output[1][i]=='_':\n",
    "                gap+=30\n",
    "            else:\n",
    "                mismatch+=mismatch_penalty(output[0][i],output[1][i],nuc_dict, mismatch_matrix)\n",
    "    score=mismatch+gap\n",
    "    return score \n",
    "    "
   ]
  },
  {
   "cell_type": "code",
   "execution_count": 19,
   "metadata": {
    "datalore": {
     "hide_input_from_viewers": false,
     "hide_output_from_viewers": false,
     "node_id": "jy7B7nr3oGrCVlbffJWJCn",
     "report_properties": {},
     "type": "CODE"
    }
   },
   "outputs": [
    {
     "data": {
      "text/plain": [
       "46320"
      ]
     },
     "execution_count": 19,
     "metadata": {},
     "output_type": "execute_result"
    }
   ],
   "source": [
    "inputs=input_read(\"../data/datapoints/in15.txt\")\n",
    "test=generate_sequences(inputs[0],inputs[1],inputs[2],inputs[3],inputs[4])\n",
    "output1=dc_alignment(test[0],test[1])\n",
    "score(output1)"
   ]
  },
  {
   "cell_type": "code",
   "execution_count": 20,
   "metadata": {},
   "outputs": [
    {
     "data": {
      "text/plain": [
       "('G_TCTGATCTACCCGA_GTCTGATCTACCCG_AAGT_C_TGGTGCCGGGCCAGT_CT_G_GTGC_CGGGTCTGA__T___CTACCCGA_GTCTG_A_T_CTACCCGAAGT_C__GTCTGA__T___CTACCCGA_GTCTGA__T_CT_ACCCGAAGT_C_TGGTGCCGG_GCCA_GT_C_TGGTGCCG_GGT_C_TGATG_TCTG_A___TCTA_CCCGA_GTC__TGAT_CTAC_CCGAAG_TCTGGTG_CCGGGC_CAGT_C_TGGTGCCGGGTCTGA__T___CTACCCGA_GTCTGA__T_CT_ACCCGAAGT_C__GTCTGA__TCTACCCGAGT_C_TGATCTACCCGAAGT_C_TGGTG_CCGGGCCA_G_TCTGGTG_CCGGGTC__TGAT_CTAC_CCGAG_TCTGAT_CTAC_CCGA_AGT_C_TGGTGCCGG_GC_CAGT_C_TGGTGCCGG_GT_CT_G_ATCTACCCGA_GTCTGA__T__CTACCCGAAGT_C__GTCTG_A_T___CTACCCGA_GTCTGA__T_C_TACCCGAAGT_C_TGGTGCCG_GGC_CAGT_C_TGGTGCCGGGTCTGA_TGT_CT_G_ATCTACCCGA_GTCTGATCTACCCG_AAGT_C_TGGTGCCGGGCCAGT_CT_G_GTGC_CGGGTCTGA__T___CTACCCGA_GTCTG_A_T_CT__AC__C_CGAAGTCGTCTGAT_CTAC_CCGAG_TCTGATCTACCCGAAG_TCTGGTG_CCGGGCCA_GT_C_TGGTGCCGGGTCTGA__T___CTACCCGA_GTCTGA__T_C_TACCCGA_A_GTGTCTG_A_T___CTACCCGA_GTCTGA__T_C_T_AC__C_CGAAG_TCTGGTG_C_C__G__GGC_CA_G_TCTGGTG_C_CG_G_GT_C_TGATCT_A_CCCG_A_GT_C_TGATCTACCCGAAGT_CGTCT_GATCTACCCGA_GTCTGATCTACCCG_AAGT_C_TGGTGCCGGGCCAGT_C_TGGTG_C_CGGG_TCTGATG_TCTG_ATCTACCCGAGTCTGATCTACCCGAAG_TCTGGTG_CCGGGCCA_GT_C_TGGTGCCGGGTCTGA__T___CTACCCGA_GTCTG_A_T_C_TACCCGAAGT_C__GTCTGA__T___CTACCCGA_GTCTGA__T_CT__AC__C_CGAAG_TCTGGTG_C_C__G__GGC_CA_G_TCTGGTG_C_C__GGGT__CTGATCTACCCGAG_TC__TGAT_C____T_AC_CCGAAG_TCTGGTG_CCGGGCCA_GT_C_TGGTGCCGGGTCTGA__T___CTACCCGA_GTCTG_A_T_C_TACCCGAAGT_C__GTCTGA__T___CTACCCGA_GTCTGA__T_CT_A_C__C_CGAAG_TCTGGTG_C_C__GG_G_C_C_AG_TCTGGTG_C_C__GGGT_CTGATGTCTGA__T___CTACCCGA_GTCTG_A_T_C_TACCCGAAGT_C_TGGTGCCGG_GC_CAGT_C_TGGTGCCGG_GT_CT_GAT_CTAC_CCGAG_TCTGAT_CTAC_CCGAAG_TCG_TCTGATCTACCCGAG_TCTGAT_CTAC_CCGAAGT_C_TGGTGCCG_GGC_CAGT_C_TGGTGCCG_GGT_C_T_GATCTACCCGA_GTCTGATCTACCCG_AAGT_C_TGGTGCCGGGCCAGT_CT_GGTG_CCGGGC__CGCCTGGTG_C_C__G__GGC_C_AG_TCTGGTG_CCGGGCCGCCCTACCCGAGT_C_TGATCTACCCGAAGT_C_TGGTG_CCGGGCCA_G_TCTGGTG_CCGGGCCG_CCTGGTG_CCGGGCCA_G_TCTGGTG_CCGGGC___CGC_CGTCTGA__T___CTACCCGA_GTCTGA__T_CT_ACCCGAAGT_C_TGGTGCCGG_GCCA_GT_C_TGGTGCCG_GGCCGCCTGGTG_CCGGGCCA_G_TCTGGTG_CCGGGCCGCCCTACCCGAGTCTGATCTACCCGAAG_TCTGGTG_C_CGGGCCAGTCTGGTG_CCGGGC__CGCCTGGTG_CCGGGCCAGTCTGGTG_CCGGGC__CGCCCTGGTG_CCGGGC_____CA_GTCTG__GTGCCGG_GC_CGCCTG__GTGCC_GGGC_CA_GTCTGGTGCCGGGCCGCCCTACCCGAGT_C_TGATCTACCCGAAGT_C_TGGTG_CCGGGC_CAG_TCTGGTG_C_C__G__GGC_C__GCCTGGTG_C_C__GGGC_CA_GTCTG__GTGCCGG_GCCGCCGTCTGA__T_CT___AC_CCGA_GTCTG_A_T___CTAC___CC_GAAGT_C_TGGTG_CCGGGC_CAG_TCTGGTG_C_C__G__GGC_C__GCCTGGTG_CCGGGCCA_GT_C_TGGTGCCGG_GC__CGCCCTACCCGA_GTCTG_A_T_CT_ACCCGAAGT_C_TGGTGCCG__G_G__C_CA_GTCTG__GTGCC__G_GGC_C__GCCTGGTG_C_C__G__GGC_CA_G_TCTGGTG_C_CG_GGCCGCC',\n",
       " 'AA___AAT__AC___ATGTTTGA___A___GTAAATACATG_T_TTGA___AGTACTTAAATACATG__TTTGAAGTAAA_TAC___ATGTTTGAAGTACTA___AAA_TACATGTTTGAAGTAAA_TAC___ATGTTTGAAGTACTTA____AA_TACATG_T_TTGAAGT_AAATACATG_T_TTGAAGTACTTAATGA_C_GCAAGCT_TAAT__GACG_CAA_GATG__ACGC__AAGCT_TAATGAC_G__CA_AATACATG_T______T_TGAAGTAAA_TAC___ATGTTTGAAGTACTTA____AA_TACATGTTTGAAGT__A___AA_TACATG_TTT____GAAGTACTTAATGAC_G__C_AAGCT_TAATGAC_G___CAA_GATG__ACGC_AAGCT_TAATG__ACGC_AAGAGTACATG_T_TTGAAGTA_AATACATG_T_TTGAAGTACTTAAAT__AC___ATGTTTGAAGTAA__A___AAAATACATGTTTGAAGTAAA_TAC___ATGTTTGAAGTACTTA____AA_TACATG_T_TTGAAGTA_AATACATG_T______T_TGAA_GTACTAAAAT__AC___ATGTTTGA___A___GTAAATACATG_T_TTGA___AGTACTTAAATACATG__TTTGAAGTAAA_TAC___ATGTTTGAAGTACTTAATGACGC_AAG_C_T_TAATG__ACGC_AAGAT__GA_C_GC___AAGCT_TAATGAC_G__C_AAATACATG_T______T_TGAAGTAAA_TAC___ATGTTTGAAGTACTTA___AATACATGTTTGAAGTAAA_TAC___ATGTTTGAAGTACTTAATGACGC_AAGCT_TAATGACGCAAGATGACGCAAGCT_TAATGACGCAAGAGTACATG_TTTGAA___GTAAATACATG_TTT____GAAGTAC_T_TAAAT__AC___ATGTTTGA___A___GTAAATACATG_T_TTGA___AGTACTTAATGACGCAAGCT_TAATGA_C_GCA___A___GA_T__GA_C_GC___AAGCT_TAATGAC_G__C_AAATACATG_T______T_TGAAGTAAA_TAC___ATGTTTGAAGTACTTA____AA_TACATGTTTGAAGTAAA_TAC___ATGTTTGAAGTACTTAATGACGC_AAGCT_TAATGACGCAAGATGACGCAAGCT_TAATGACGCAAGAGTAA_TGA_C_GC__AAGCTTAATGACGCAAGATGACGC__AAGCT_TAATGAC_G__C_AAATACATG_T______T_TGAAGTAAA_TAC___ATGTTTGAAGTACTTA____AA_TACATGTTTGAAGTAAA_TAC___ATGTTTGAAGTACTTAATGACGC_AAGCT_TAATGACGCAAGATGACGCAAGCT_TAATGACGCAAGAGTAC__ATGTTTGAAGTAAA_TAC___ATGTTTGAAGTACTTA____AA_TACATG_T_TTGAAGTA_AATACATG_T_TTGAAGTACTTAATG__ACGC_AAGCT_TAATG__ACGC__AAGAT_GA_C_G__C_A____AGCT_TAATG__ACGC_AAA_TACATG_T_TTGAAGTA_AATACATG_T_TTGAAGTACTTAAAT__AC___ATGTTTGA___A___GTAAATACATG_T_TTGA___AGTACTTAATGAC_G__CAA_GCTTAATGACGCAAGATGACGCAAGCT_TAATGAC_G__C_A____A___GAGTACATG_TTT____GAAGTACTTAATGAC_G__C_AAGCT_TAATGAC_G__C_AA___GATGAC_G__C_AAGCT_TAATGAC_G__CAAATACATGTTTGAAGTAAA_TAC___ATGTTTGAAGTACTTA____AA_TACATG_T_TTGAAGT_AAATACATG_T_TTGAAGT_ACTTAATGAC_G__C_AAGCT_TAATGAC_G__C_A____A___GA_T__GA_C_GC___AAGCT_TAATGACGCAAG__AGT__AATGAC_G__CAA_GCTTAATGAC_G__C_AA___GATGAC_G__CAA_GCT_TAATGAC_G__CAAATACATGTTTGAAGTA__AATACATGTTTGAAGTACTTAAATACATGT_T__TG__AAG______TA___AA_TACATG_TTT____GAAGTACTTAATGAC_G__CA_AGCT_TAATGACGCAAGATGACGCAAGCTTAATGACGCAAGAGTACATGTTTGAAGTA__AATAC_AT_GTTTGAAGTACTTAAATAC__ATGTTTGAAGTAAA_TACATGTTTGAAGTACTTAATGAC_G__CA_AGCT_TAATGACGCAAGATGACGCAAGCTTAATGAC_G__C_AAATACATG_T_TTGAAGTAA_A___TAC___ATGTTTGAAGTACTTA____AA_TACATG_T_TTGAAGTAAATACATGTTTGAAGTACTTAATGACGCAAGCTTAATGACGCAAGATGACGCAAGCT_TAATGACGCAAGA__G__')"
      ]
     },
     "execution_count": 20,
     "metadata": {},
     "output_type": "execute_result"
    }
   ],
   "source": [
    "output1"
   ]
  },
  {
   "cell_type": "code",
   "execution_count": 18,
   "metadata": {},
   "outputs": [
    {
     "data": {
      "text/plain": [
       "29532"
      ]
     },
     "execution_count": 18,
     "metadata": {},
     "output_type": "execute_result"
    }
   ],
   "source": [
    "score(output1)"
   ]
  }
 ],
 "metadata": {
  "datalore": {
   "base_environment": "default",
   "computation_mode": "JUPYTER",
   "package_manager": "pip",
   "packages": [
    {
     "name": "psutil",
     "source": "PIP",
     "version": "5.9.4"
    }
   ],
   "version": 1
  },
  "kernelspec": {
   "display_name": "Python 3.8.8 ('base')",
   "language": "python",
   "name": "python3"
  },
  "language_info": {
   "codemirror_mode": {
    "name": "ipython",
    "version": 3
   },
   "file_extension": ".py",
   "mimetype": "text/x-python",
   "name": "python",
   "nbconvert_exporter": "python",
   "pygments_lexer": "ipython3",
   "version": "3.9.7"
  },
  "vscode": {
   "interpreter": {
    "hash": "a5887580c7cbb0fe8c117cf89484cb0db59155905523768f16ba2f70bd8e79c7"
   }
  }
 },
 "nbformat": 4,
 "nbformat_minor": 4
}
