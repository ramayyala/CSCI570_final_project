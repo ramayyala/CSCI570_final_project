{
 "cells": [
  {
   "cell_type": "code",
   "execution_count": 1,
   "metadata": {},
   "outputs": [],
   "source": [
    "import sys \n",
    "import numpy as np\n",
    "from resource import * \n",
    "import time\n",
    "import psutil\n",
    "import os "
   ]
  },
  {
   "cell_type": "code",
   "execution_count": 2,
   "metadata": {},
   "outputs": [],
   "source": [
    "def input_read(file):\n",
    "    base_strings = []\n",
    "    index_1 = []\n",
    "    index_2 = []\n",
    "    j=0\n",
    "    k=0\n",
    "    string_counter=0\n",
    "    with open(file,\"r\") as f:\n",
    "        for line in f.readlines():\n",
    "            #remove all whitespaces in text file from reading in line by line \n",
    "            line=line.strip()\n",
    "            # select only the base sequence to append to the sequence list \n",
    "            if not line.isnumeric():\n",
    "                base_strings.append(line)\n",
    "                #counter to make sure we are only appending strings not not the indices \n",
    "                string_counter+=1\n",
    "            ##if the line is not a base sequence, then it is an index\n",
    "            else:\n",
    "                #if the string counter ==2, then that means are appending the second set of indices\n",
    "                if string_counter == 2:\n",
    "                    index_2.append(int(line))\n",
    "                    k+=1\n",
    "                #if the string !=2, then that means we are appending the first set of indices \n",
    "                else:\n",
    "                    index_1.append(int(line))\n",
    "                    j+=1\n",
    "    return base_strings,index_1,index_2,k,j"
   ]
  },
  {
   "cell_type": "code",
   "execution_count": 3,
   "metadata": {},
   "outputs": [],
   "source": [
    "def generate_sequences(base_strings,index_1,index_2,k,j):\n",
    "    sequences=[]\n",
    "    seq1=base_strings[0]\n",
    "    seq2=base_strings[1]\n",
    "    ##check if its string 1 or string 2 we are using \n",
    "    for i in index_1:\n",
    "        seq1 = seq1[0:i+1] + seq1 + seq1[i+1:]\n",
    "    if len(seq1) == (2**j)*len(base_strings[0]):\n",
    "        sequences.append(seq1)\n",
    "    for i in index_2:\n",
    "        seq2 = seq2[0:i+1] + seq2 + seq2[i+1:]\n",
    "    if len(seq2) == (2**k)*len(base_strings[1]):   \n",
    "        sequences.append(seq2)\n",
    "    return sequences\n",
    "\n",
    "        "
   ]
  },
  {
   "cell_type": "code",
   "execution_count": 4,
   "metadata": {},
   "outputs": [],
   "source": [
    "def mismatch_penalty(base_1,base_2):\n",
    "    nucs=\"ACGT\"\n",
    "    index_1=nucs.index(base_1)\n",
    "    index_2=nucs.index(base_2)\n",
    "    mismatch_matrix = [[0,110,48,94],\n",
    "                        [110,0,118,48],\n",
    "                        [48,118,0,110],\n",
    "                        [94,48,110,0]]\n",
    "    return mismatch_matrix[index_1][index_2]"
   ]
  },
  {
   "cell_type": "code",
   "execution_count": 5,
   "metadata": {},
   "outputs": [],
   "source": [
    "inputs=input_read(\"../data/SampleTestCases/input1.txt\")\n",
    "test=generate_sequences(inputs[0],inputs[1],inputs[2],inputs[3],inputs[4])"
   ]
  },
  {
   "cell_type": "code",
   "execution_count": null,
   "metadata": {},
   "outputs": [],
   "source": [
    "def dc_alignnment(seq1,seq2):\n",
    "    gap_pen=30 \n",
    "    m=len(seq1)\n",
    "    n=len(seq2)\n",
    "    "
   ]
  },
  {
   "cell_type": "code",
   "execution_count": null,
   "metadata": {},
   "outputs": [],
   "source": [
    "def alignment(seq1,seq2):\n",
    "    # set value of gaps \n",
    "    gap_pen=30\n",
    "    # build dp table\n",
    "    m=len(seq1)\n",
    "    n=len(seq2)\n",
    "    dp = np.zeros([m+1,n+1], dtype=int)\n",
    "    #initialize dp table \n",
    "    dp[0:(m+1),0] = [i*gap_pen for i in range(m+1)]\n",
    "    dp[0,0:(n+1)] = [j*gap_pen for j in range(n+1)]\n",
    "    #fill dp table with penalty scores \n",
    "    for i in range(1,m+1):\n",
    "        for j in range(1,n+1):\n",
    "            # if the nucs are equal to each other \n",
    "            if seq1[i-1] == seq2[j-1]:\n",
    "                dp[i][j] = dp[i-1][j-1]\n",
    "            # if the nucs don't match each other, then find min of the potential penalties \n",
    "            else:\n",
    "                dp[i][j] = min(dp[i-1][j-1] + mismatch_penalty(seq1[i-1],seq2[j-1]),\n",
    "                                dp[i-1][j] + gap_pen,\n",
    "                                dp[i][j-1] + gap_pen)\n",
    "    \n",
    "    # find optimal path from dp table \n",
    "    i= m\n",
    "    j= n\n",
    "    #tracing path \n",
    "    seq1_list=[]\n",
    "    seq2_list=[]\n",
    "    while i!=0 or j!=0:\n",
    "        #case 1: seq2 has gap \n",
    "        if dp[i][j]==dp[i-1][j]+gap_pen:\n",
    "            seq1_list.append(seq1[i-1])\n",
    "            seq2_list.append('_')\n",
    "            i-=1\n",
    "        #case 2: seq1 has gap \n",
    "        elif dp[i][j]==dp[i][j-1]+gap_pen:\n",
    "            seq1_list.append('_')\n",
    "            seq2_list.append(seq2[j-1])\n",
    "            j-=1\n",
    "\n",
    "        #case 3: nucs match, so no penalty or nucs mismatch, but penalty is already accounted for so same path \n",
    "        else:\n",
    "            seq1_list.append(seq1[i-1])\n",
    "            seq2_list.append(seq2[j-1])\n",
    "            i-=1\n",
    "            j-=1\n",
    "\n",
    "\n",
    "    s1_final=''\n",
    "    s2_final=''\n",
    "    for k in range(len(seq1_list)):\n",
    "        s1_final += seq1_list.pop()\n",
    "        s2_final += seq2_list.pop()\n",
    "    wf = [s1_final, s2_final]\n",
    "    return dp[m][n],wf"
   ]
  }
 ],
 "metadata": {
  "kernelspec": {
   "display_name": "Python 3.9.7 ('base')",
   "language": "python",
   "name": "python3"
  },
  "language_info": {
   "codemirror_mode": {
    "name": "ipython",
    "version": 3
   },
   "file_extension": ".py",
   "mimetype": "text/x-python",
   "name": "python",
   "nbconvert_exporter": "python",
   "pygments_lexer": "ipython3",
   "version": "3.9.7"
  },
  "orig_nbformat": 4,
  "vscode": {
   "interpreter": {
    "hash": "a5887580c7cbb0fe8c117cf89484cb0db59155905523768f16ba2f70bd8e79c7"
   }
  }
 },
 "nbformat": 4,
 "nbformat_minor": 2
}
