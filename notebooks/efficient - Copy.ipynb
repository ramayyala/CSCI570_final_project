{
 "cells": [
  {
   "cell_type": "code",
   "execution_count": 1,
   "metadata": {
    "datalore": {
     "hide_input_from_viewers": false,
     "hide_output_from_viewers": false,
     "node_id": "SaoAY3bGkXhhmVMeawRVNS",
     "report_properties": {},
     "type": "CODE"
    }
   },
   "outputs": [],
   "source": [
    "import sys \n",
    "import numpy as np\n",
    "from resource import * \n",
    "import time\n",
    "import psutil\n",
    "import os "
   ]
  },
  {
   "cell_type": "code",
   "execution_count": 2,
   "metadata": {
    "datalore": {
     "hide_input_from_viewers": false,
     "hide_output_from_viewers": false,
     "node_id": "1cjqsolwBONif9WBeEm7Mo",
     "report_properties": {},
     "type": "CODE"
    }
   },
   "outputs": [],
   "source": [
    "def input_read(file):\n",
    "    base_strings = []\n",
    "    index_1 = []\n",
    "    index_2 = []\n",
    "    j=0\n",
    "    k=0\n",
    "    string_counter=0\n",
    "    with open(file,\"r\") as f:\n",
    "        for line in f.readlines():\n",
    "            #remove all whitespaces in text file from reading in line by line \n",
    "            line=line.strip()\n",
    "            # select only the base sequence to append to the sequence list \n",
    "            if not line.isnumeric():\n",
    "                base_strings.append(line)\n",
    "                #counter to make sure we are only appending strings not not the indices \n",
    "                string_counter+=1\n",
    "            ##if the line is not a base sequence, then it is an index\n",
    "            else:\n",
    "                #if the string counter ==2, then that means are appending the second set of indices\n",
    "                if string_counter == 2:\n",
    "                    index_2.append(int(line))\n",
    "                    k+=1\n",
    "                #if the string !=2, then that means we are appending the first set of indices \n",
    "                else:\n",
    "                    index_1.append(int(line))\n",
    "                    j+=1\n",
    "    return base_strings,index_1,index_2,k,j"
   ]
  },
  {
   "cell_type": "code",
   "execution_count": 3,
   "metadata": {
    "datalore": {
     "hide_input_from_viewers": false,
     "hide_output_from_viewers": false,
     "node_id": "jSieBnbnEBsKciutL4Bclk",
     "report_properties": {},
     "type": "CODE"
    }
   },
   "outputs": [],
   "source": [
    "def generate_sequences(base_strings,index_1,index_2,k,j):\n",
    "    sequences=[]\n",
    "    seq1=base_strings[0]\n",
    "    seq2=base_strings[1]\n",
    "    ##check if its string 1 or string 2 we are using \n",
    "    for i in index_1:\n",
    "        seq1 = seq1[0:i+1] + seq1 + seq1[i+1:]\n",
    "    if len(seq1) == (2**j)*len(base_strings[0]):\n",
    "        sequences.append(seq1)\n",
    "    for i in index_2:\n",
    "        seq2 = seq2[0:i+1] + seq2 + seq2[i+1:]\n",
    "    if len(seq2) == (2**k)*len(base_strings[1]):   \n",
    "        sequences.append(seq2)\n",
    "    return sequences\n",
    "\n",
    "        "
   ]
  },
  {
   "cell_type": "code",
   "execution_count": 4,
   "metadata": {
    "datalore": {
     "hide_input_from_viewers": false,
     "hide_output_from_viewers": false,
     "node_id": "fuBVTPXioUmIee121F1yPE",
     "report_properties": {},
     "type": "CODE"
    }
   },
   "outputs": [],
   "source": [
    "def mismatch_penalty(base_1,base_2):\n",
    "    nucs=\"ACGT\"\n",
    "    index_1=nucs.index(base_1)\n",
    "    index_2=nucs.index(base_2)\n",
    "    mismatch_matrix = [[0,110,48,94],\n",
    "                        [110,0,118,48],\n",
    "                        [48,118,0,110],\n",
    "                        [94,48,110,0]]\n",
    "    return mismatch_matrix[index_1][index_2]"
   ]
  },
  {
   "cell_type": "code",
   "execution_count": 5,
   "metadata": {
    "datalore": {
     "hide_input_from_viewers": false,
     "hide_output_from_viewers": false,
     "node_id": "EZWQyZvvLS5JWF9lsyAPjQ",
     "report_properties": {},
     "type": "CODE"
    }
   },
   "outputs": [],
   "source": [
    "def alignment(seq1,seq2):\n",
    "    # set value of gaps \n",
    "    gap_pen=30\n",
    "    # build dp table\n",
    "    m=len(seq1)\n",
    "    n=len(seq2)\n",
    "    dp = np.zeros([m+1,n+1], dtype=int)\n",
    "    #initialize dp table \n",
    "    dp[0:(m+1),0] = [i*gap_pen for i in range(m+1)]\n",
    "    dp[0,0:(n+1)] = [j*gap_pen for j in range(n+1)]\n",
    "    #fill dp table with penalty scores \n",
    "    for i in range(1,m+1):\n",
    "        for j in range(1,n+1):\n",
    "            # if the nucs are equal to each other \n",
    "            if seq1[i-1] == seq2[j-1]:\n",
    "                dp[i][j] = dp[i-1][j-1]\n",
    "            # if the nucs don't match each other, then find min of the potential penalties \n",
    "            else:\n",
    "                dp[i][j] = min(dp[i-1][j-1] + mismatch_penalty(seq1[i-1],seq2[j-1]),\n",
    "                                dp[i-1][j] + gap_pen,\n",
    "                                dp[i][j-1] + gap_pen)\n",
    "    \n",
    "    # find optimal path from dp table \n",
    "    i= m\n",
    "    j= n\n",
    "    #tracing path \n",
    "    seq1_list=[]\n",
    "    seq2_list=[]\n",
    "    while i!=0 or j!=0:\n",
    "        #case 1: seq2 has gap \n",
    "        if dp[i][j]==dp[i-1][j]+gap_pen:\n",
    "            seq1_list.append(seq1[i-1])\n",
    "            seq2_list.append('_')\n",
    "            i-=1\n",
    "        #case 2: seq1 has gap \n",
    "        elif dp[i][j]==dp[i][j-1]+gap_pen:\n",
    "            seq1_list.append('_')\n",
    "            seq2_list.append(seq2[j-1])\n",
    "            j-=1\n",
    "\n",
    "        #case 3: nucs match, so no penalty or nucs mismatch, but penalty is already accounted for so same path \n",
    "        else:\n",
    "            seq1_list.append(seq1[i-1])\n",
    "            seq2_list.append(seq2[j-1])\n",
    "            i-=1\n",
    "            j-=1\n",
    "\n",
    "\n",
    "    s1_final=''\n",
    "    s2_final=''\n",
    "    for k in range(len(seq1_list)):\n",
    "        s1_final += seq1_list.pop()\n",
    "        s2_final += seq2_list.pop()\n",
    "    seq = [s1_final, s2_final]\n",
    "    return seq"
   ]
  },
  {
   "cell_type": "code",
   "execution_count": 7,
   "metadata": {
    "datalore": {
     "hide_input_from_viewers": false,
     "hide_output_from_viewers": false,
     "node_id": "rKLSIM7oJzUgIRtqjfQXOq",
     "report_properties": {},
     "type": "CODE"
    }
   },
   "outputs": [],
   "source": [
    "inputs=input_read(\"../data/SampleTestCases/input5.txt\")\n",
    "test=generate_sequences(inputs[0],inputs[1],inputs[2],inputs[3],inputs[4])"
   ]
  },
  {
   "cell_type": "code",
   "execution_count": null,
   "metadata": {
    "datalore": {
     "hide_input_from_viewers": false,
     "hide_output_from_viewers": false,
     "node_id": "5DRx9vN4lFozMcFtPV2g2H",
     "report_properties": {},
     "type": "CODE"
    }
   },
   "outputs": [
    {
     "name": "stdout",
     "output_type": "stream",
     "text": [
      "dlroW olleH\n"
     ]
    }
   ],
   "source": [
    "txt = \"Hello World\" [::-1]\n",
    "print(txt)"
   ]
  },
  {
   "cell_type": "code",
   "execution_count": 8,
   "metadata": {
    "datalore": {
     "hide_input_from_viewers": false,
     "hide_output_from_viewers": false,
     "node_id": "btyVzholKk9OZ7idmfI8J0",
     "report_properties": {},
     "type": "CODE"
    }
   },
   "outputs": [],
   "source": [
    "def dc_alignment(seq1,seq2):\n",
    "    gap_pen=30 \n",
    "    m=len(seq1)\n",
    "    n=len(seq2)\n",
    "    #if the length of the sequences is less than 2, then just use the dp algorithm as a bound \n",
    "    if n<=2 or m<=2:\n",
    "        return alignment(seq1,seq2)\n",
    "    f = np.zeros((m + 1, 2))\n",
    "    g = np.zeros((m + 1, 2))\n",
    "\n",
    "    if n%2==0:\n",
    "        front_len=n//2\n",
    "        back_len=n//2\n",
    "    else:\n",
    "        front_len=n//2+1\n",
    "        back_len=n//2\n",
    "\n",
    "\n",
    "    for i in range(m + 1):\n",
    "        f[i, 0] = i * gap_pen\n",
    "\n",
    "    for j in range(1, front_len+1):\n",
    "        f[0, 1] = j * gap_pen\n",
    "        for i in range(1, m + 1):\n",
    "            f[i, 1] = min(f[i - 1, 0] + mismatch_penalty(seq1[i-1],seq2[j-1]),\n",
    "                            f[i - 1, 1] + gap_pen,\n",
    "                            f[i, 0] + gap_pen)\n",
    "        for i in range(m+1):\n",
    "            f[i,0]=f[i,1]\n",
    "    \n",
    "    #reverse the strings\n",
    "    seq1_inv=seq1[::-1]\n",
    "    seq2_inv=seq2[::-1]\n",
    "\n",
    "    for i in range(m + 1):\n",
    "        g[i, 0] = i * gap_pen\n",
    "\n",
    "    for j in range(1, back_len+1):\n",
    "        g[0, 1] = j * gap_pen\n",
    "        for i in range(1, m + 1):\n",
    "            g[i, 1] = min(g[i - 1, 0] + mismatch_penalty(seq1_inv[i-1],seq2_inv[j-1]),\n",
    "                            g[i - 1, 1] + gap_pen,\n",
    "                            g[i, 0] + gap_pen)\n",
    "        for i in range(m+1):\n",
    "            g[i,0]=g[i,1]\n",
    "    q = 0\n",
    "    for i in range(m + 1):\n",
    "        if f[i, 0] + g[m - i, 0] < f[q, 0] + g[m - q, 0]:\n",
    "            q = i\n",
    "    # print(f[q, 0] + g[m - q, 0])\n",
    "    #print(\"F table:\")\n",
    "    #print(f)\n",
    "    #print(\"G table:\")\n",
    "    #print(g)\n",
    "    alignment_x1, alignment_y1 = dc_alignment(seq1[:q], seq2[:front_len])\n",
    "    alignment_x2, alignment_y2 = dc_alignment(seq1[q:], seq2[front_len:])\n",
    "    return alignment_x1 + alignment_x2, alignment_y1 + alignment_y2\n",
    "    \n",
    "    "
   ]
  },
  {
   "cell_type": "code",
   "execution_count": 12,
   "metadata": {},
   "outputs": [],
   "source": [
    "def score(output):\n",
    "    mismatch=0\n",
    "    gap=0\n",
    "    for i in range(len(output[0])):\n",
    "        if output[0][i]!=output[1][i]:\n",
    "            if output[0][i]=='_' or output[1][i]=='_':\n",
    "                gap+=30\n",
    "            else:\n",
    "                mismatch+=mismatch_penalty(output[0][i],output[1][i])\n",
    "    score=mismatch+gap\n",
    "    return score \n",
    "    "
   ]
  },
  {
   "cell_type": "code",
   "execution_count": 9,
   "metadata": {
    "datalore": {
     "hide_input_from_viewers": false,
     "hide_output_from_viewers": false,
     "node_id": "jy7B7nr3oGrCVlbffJWJCn",
     "report_properties": {},
     "type": "CODE"
    }
   },
   "outputs": [],
   "source": [
    "output1=dc_alignment(test[0],test[1])"
   ]
  },
  {
   "cell_type": "code",
   "execution_count": 10,
   "metadata": {},
   "outputs": [
    {
     "data": {
      "text/plain": [
       "('___A____C_A_C___A___CA______A_____A__A___A__C_A_CACAAAACAC_ACACAA__AAACACACAAAACACACAAACACACAACAC_A_CACACACGTACGACG_T_ACGTTGTACG__ACGTACG_TTACGTACGACGTACGTTG_TA__CGACGTACG_TTGTA__CGACGTACGTTGTA_CGACGTACGT_TACGTACGACGTACG_TTGTACGACGTACGTTC_ACACGTACGACGTACG_TTGTA__CGACGTACGT_TAC_GTAC__GACGTACG_TTGTACGACGTACGTTG_TACG__ACGTACG_TTGTACGACGTACGT_TACGTAC__GA_C_GTACGTTGTACGACGTACGTTC_ACACACACACGTACGACG_TACGTTGTACGACGTACGT_TACGT_ACGACG__TACGTTGTA__CGACGTACG_TTGTACGACGTACGTTG_TA__CGACGTACG_TT__ACGTACGACGTACGTTGTAC_GACGTACGTTCACACGTACGACGTACG_TTGTACGACGTACGT__TACGTACGACGTACG_TTGTA__CGA__CG_T_ACGTTGTACG__ACGTACG_TTGTACGACGTACGT__TACGTACGACGTACG_TTGTA__CGACGTACG_TTCAC___A_CA_ACAC_ACAC_AC_ACGTACGACGTACGTTG_TAC__GACGTACG__T_TACGT_ACGACGT__ACGTTGTA__CGACGTACG_TTGTACGACGTACGTTG_TAC__GACGTACG__T_TACGTACGACGTACGTTGTA_CGACGTACGTTCACACGTACGACGTACG_TTGTACGACGTACGT__TACGTACGACGTACG_TTGTAC__GA__CG__TACGTTGTA__CGACGTACG_TTGTACGACGTACGT__TACGTACGACGTACG_TTGTAC__GACGTACGT_TCA_C_A_C__AC_ACACGTACGACGTACG_TTGTACGACGTACGT__TACGTACGACGTACG_TTGTA__CGACG__T__ACGTTGTAC__GACGTACG_TTGTACGACGTACGT__TACGTACGACGTACG_TTGTA__CGACGTACGTTCAC___A_CGTA__CGACGTACG_TTGTACGACGTACGT__TACGTACGACGTACG_TTGTACG__AC__GT__ACGTTGTA__CGACGTACG_TTGTACGACGTACGT__TACGTACGACGTACG_TTGTACG__ACGTACGTTCAC_A_C_A____A__ACACACAACAC_A_CACACACGTACGACG_TACGTTGTACGACGTACGT_TACGT_ACGACGT__ACGTTGTAC__GACGTACG_TTGTACGACGTACGTTG_TACG__ACGTACG_T__TACGTACGACGTACGTTGTAC_GACGTACGTTCACACGTACGACGTACG_TTGTACGACGTACGT__TACGTACGACGTACG_TTGTACG__AC__GT__ACGTTGTA__CGACGTACG_TTGTACGACGTACGT__TACGTACGACGTACG_TTGTACG__ACGTACGT_TCA__CA__C_A_CACACGTACGACGTACG_TTGTACGACGTACGT__TACGTACGACGTACG_TTGTA__CGA__CG_T_ACGTTGTACG__ACGTACG_TTGTACGACGTACGT__TACGTACGACGTACG_TTGTA__CGACGTACGTTCA_C__AC_GTAC__GACGTACG_TTGTACGACGTACGT__TACGTACGACGTACG_TTGTA__CGACG__T__ACGTTGTAC__GACGTACG_TTGTACGACGTACGT__TACGTACGACGTACG_TTGTA__CGACGTACG_TTCA___CAC_A_ACAC_ACAC_A_CACGTACGACGTACGTTG_TA__CGACGTACG_TT__ACGT_ACGACG__TACGTTGTA__CGACGTACG_TTGTACGACGTACGTTG_TA__CGACGTACG_TT__ACGTACGACGTACGTTGTAC_GACGTACGTTCACACGTACGACGTACG_TTGTACGACGTACGT__TACGTACGACGTACG_TTGTA__CGA__CG_T_ACGTTGTACG__ACGTACG_TTGTACGACGTACGT__TACGTACGACGTACG_TTGTA__CGACGTACGT_TCAC__AC___A_CACACGTACGACGTACG_TTGTACGACGTACGT__TACGTACGACGTACG_TTGTACG__AC__GT__ACGTTGTA__CGACGTACG_TTGTACGACGTACGT__TACGTACGACGTACG_TTGTACG__ACGTACGTTCA___CAC_GTA__CGACGTACG_TTGTACGACGTACGT__TACGTACGACGTACG_TTGTAC__GA__CG__TACGTTGTA__CGACGTACG_TTGTACGACGTACGT__TACGTACGACGTACG_TTGTAC__GA__CGTACGTTAC___A_CAAACACACAACAC_AC_ACACACGTACGACG_TACGTTGTACGACGTACGT_TACGT_ACGACGT__ACGTTGTA__CGACGTACG_TTGTACGACGTACGTTG_TAC__GACGTACG__T_TACGTACGACGTACGTTGTA_CGACGTACGTTCACACGTACGACGTACG_TTGTACGACGTACGT__TACGTACGACGTACG_TTGTAC__GA__CG__TACGTTGTA__CGACGTACG_TTGTACGACGTACGT__TACGTACGACGTACG_TTGTAC__GACGTACGT_TCA_C_A_C__AC_ACACGTACGACGTACG_TTGTACGACGTACGT__TACGTACGACGTACG_TTGTA__CGACG__T__ACGTTGTAC__GACGTACG_TTGTACGACGTACGT__TACGTACGACGTACG_TTGTA__CGACGTACGTTCAC___A_CGTA__CGACGTACG_TTGTACGACGTACGT__TACGTACGACGTACG_TTGTACG__AC__GT__ACGTTGTA__CGACGTACG_TTGTACGACGTACGT__TACGTACGACGTACG_TTGTACG__ACGTACG_TTCA__C_A_CA_ACAC_ACAC_AC_ACGTACGACGTACGTTG_TA__CGACGTACG_T__TACGT_ACGACG_T_ACGTTGTACG__ACGTACG_TTGTACGACGTACGTTG_TA__CGACGTACG_T__TACGTACGACGTACGTTGTA_CGACGTACGTTCACACGTACGACGTACG_TTGTACGACGTACGT__TACGTACGACGTACG_TTGTA__CGACG__T__ACGTTGTAC__GACGTACG_TTGTACGACGTACGT__TACGTACGACGTACG_TTGTA__CGACGTACGT_TCAC__A___CAC_ACACGTACGACGTACG_TTGTACGACGTACGT__TACGTACGACGTACG_TTGTAC__GA__CG__TACGTTGTA__CGACGTACG_TTGTACGACGTACGT__TACGTACGACGTACG_TTGTAC__GACGTACGTTCA__C_A_CGTACG__ACGTACG_TTGTACGACGTACGT__TACGTACGACGTACG_TTGTA__CGA__CG_T_ACGTTGTACG__ACGTACG_TTGTACGACGTACGT__TACGTACGACGTACG_TTGTA__CGACGTACGTTCAC_AC__A____A__ACACACAACAC_A_CACACACGTACGACG_TACGTTGTACGACGTACGT_TACGT_ACGACG__TACGTTGTA__CGACGTACG_TTGTACGACGTACGTTG_TA__CGACGTACG_TT__ACGTACGACGTACGTTGTAC_GACGTACGTTCACACGTACGACGTACG_TTGTACGACGTACGT__TACGTACGACGTACG_TTGTA__CGA__CG_T_ACGTTGTACG__ACGTACG_TTGTACGACGTACGT__TACGTACGACGTACG_TTGTA__CGACGTACGT_TCAC__AC___A_CACACGTACGACGTACG_TTGTACGACGTACGT__TACGTACGACGTACG_TTGTACG__AC__GT__ACGTTGTA__CGACGTACG_TTGTACGACGTACGT__TACGTACGACGTACG_TTGTACG__ACGTACGTTCA___CAC_GTA__CGACGTACG_TTGTACGACGTACGT__TACGTACGACGTACG_TTGTAC__GA__CG__TACGTTGTA__CGACGTACG_TTGTACGACGTACGT__TACGTACGACGTACG_TTGTAC__GACGTACG_TTCA_C__AC_A_ACAC_ACAC_A_CACGTACGACGTACGTTG_TACG__ACGTACG_T__TACGT_ACGACGT__ACGTTGTAC__GACGTACG_TTGTACGACGTACGTTG_TACG__ACGTACG_T__TACGTACGACGTACGTTGTAC_GACGTACGTTCACACGTACGACGTACG_TTGTACGACGTACGT__TACGTACGACGTACG_TTGTACG__AC__GT__ACGTTGTA__CGACGTACG_TTGTACGACGTACGT__TACGTACGACGTACG_TTGTACG__ACGTACGT_TCA__CA__C_A_CACACGTACGACGTACG_TTGTACGACGTACGT__TACGTACGACGTACG_TTGTA__CGA__CG_T_ACGTTGTACG__ACGTACG_TTGTACGACGTACGT__TACGTACGACGTACG_TTGTA__CGACGTACGTTCA_C__AC_GTAC__GACGTACG_TTGTACGACGTACGT__TACGTACGACGTACG_TTGTA__CGACG__T__ACGTTGTAC__GACGTACG_TTGTACGACGTACGT__TACGTACGACGTACG_TTGTACGACGTACGT_T',\n",
       " 'TTTATTTTTTATTTTTATTTTATTTTTTATTTTTATTATTTATTTTATTATA___CGCGACGCGATTA__TACGCGA__CGCG_A__TACGCGACGCGATTATACGCG_ACG_CGTTTA__TTATACGCGACG__CGATTA__TACG_CG_ACGC_GATACGCGACG__CGATTATACGCGACG__CGTT_TATT__T_TAT_TATACG__CGACG__CGATTATACG_CG_ACG__CGATACG__CGACG__CGATTATACGCGACG__CGTTTATTATACGCGACG__CGATTATACG_CG_ACGC_GATACGCGACG__CGATTATACG_CG_ACGCGTAT_TATTT_ATTT_TA__TTATACG_CG_ACG__CGAT_TATACGCG_ACG_CGATACGC_G_ACG_CG_AT_TATACGCGACG_CGTTTA__TTATACGCGACG__CGATTATACG_CG_ACGC_GATACGCGACG__CGATTATACG__CGACG__CGTT_TATT__T_TA__TT_ATACG__CGACG__CGATTATACG_CG_ACGCGATACG__CGACG__CGATTATACGCGACGCGTTTA__TTATACGCGACG__CGATTATACG_CG_ACGCGATACG__CGACG__CGATTATACGCGACG__CGATTTATTTTATTATACGCGACGCGATTA__TACG_CG_ACGC_GATACGCGACG__CGATTATACGCGACG_CGTTTA__TTATACGCGACG__CGATTATACG_CG_ACGC_GATACGCGACG__CGATTATACG__CGACG__CGTT_TATT__T_TA__TT_ATACG__CGACG__CGATTATACG_CG_ACGCGATACG__CGACG__CGATTATACGCGACGCGTTTA__TTATACGCGACG__CGATTATACG_CG_ACGCGATACG__CGACG__CGATTATACGCGACG__CGTATTATTTATTTTATTATACG__CGACG__CGATTATACG_CG_ACGCGATACG__CGACG__CGATTATACGCGACGCGTTTA__TTATACGCGACG__CGATTATACG_CG_ACGCGATACG__CGACG__CGATTATACGCGACG__CGTTTATTTTATTATACGCGACG__CGATTATACG_CG_ACGCGATACG__CGACG__CGATTATACGCGACGCGTTTA__TTATACGCGACG__CGATTATACG_CG_ACGCGATACG__CGACG__CGATTATACGCGACG__CGTT_ATTATTTATTTTATTATACGCGACGCGATTATACGCG_ACG_CGATACGC_G_ACG_CG_AT_TATACGCGACG_CGTTTA__TTATACGCGACG__CGATTATACG_CG_ACGC_GATACGCGACG__CGATTATACG__CGACG__CGTT_TATT__T_TA__TT_ATACG__CGACG__CGATTATACG_CG_ACGCGATACG__CGACG__CGATTATACGCGACGCGTTTA__TTATACGCGACG__CGATTATACG_CG_ACGCGATACG__CGACG__CGATTATACGCGACG__CGTATTATTTATTTTATTATACG__CGACG__CGATTATACG_CG_ACGCGATACG__CGACG__CGATTATACGCGACGCGTTTA__TTATACGCGACG__CGATTATACG_CG_ACGCGATACG__CGACG__CGATTATACGCGACG__CGTTTATTTTATTATACGCGACG__CGATTATACG_CG_ACGCGATACG__CGACG__CGATTATACGCGACGCGTTTA__TTATACGCGACG__CGATTATACG_CG_ACGCGATACG__CGACG__CGATTATACGCGACG__CGATTTATTTTATTATACGCGACGCGATTA__TACG_CG_ACGC_GATACGCGACG__CGATTATACGCGACG_CGTTTA__TTATACGCGACG__CGATTATACG_CG_ACGC_GATACGCGACG__CGATTATACG__CGACG__CGTT_TATT__T_TA__TT_ATACG__CGACG__CGATTATACG_CG_ACGCGATACG__CGACG__CGATTATACGCGACGCGTTTA__TTATACGCGACG__CGATTATACG_CG_ACGCGATACG__CGACG__CGATTATACGCGACG__CGTATTATTTATTTTATTATACG__CGACG__CGATTATACG_CG_ACGCGATACG__CGACG__CGATTATACGCGACGCGTTTA__TTATACGCGACG__CGATTATACG_CG_ACGCGATACG__CGACG__CGATTATACGCGACG__CGTTTATTTTATTATACGCGACG__CGATTATACG_CG_ACGCGATACG__CGACG__CGATTATACGCGACGCGTTTA__TTATACGCGACG__CGATTATACG_CG_ACGCGATACG__CGACG__CGATTATACGCGACGCGTAT_TTATTTTATTA__TACGCGACGCGATTATACGCG_ACG_CGATACGC_G_ACG_CG_AT_TATACGCGACG_CGTTTA__TTATACGCGACG__CGATTATACG_CG_ACGC_GATACGCGACG__CGATTATACG__CGACG__CGTT_TATT__T_TA__TT_ATACG__CGACG__CGATTATACG_CG_ACGCGATACG__CGACG__CGATTATACGCGACGCGTTTA__TTATACGCGACG__CGATTATACG_CG_ACGCGATACG__CGACG__CGATTATACGCGACG__CGTATTATTTATTTTATTATACG__CGACG__CGATTATACG_CG_ACGCGATACG__CGACG__CGATTATACGCGACGCGTTTA__TTATACGCGACG__CGATTATACG_CG_ACGCGATACG__CGACG__CGATTATACGCGACG__CGTTTATTTTATTATACGCGACG__CGATTATACG_CG_ACGCGATACG__CGACG__CGATTATACGCGACGCGTTTA__TTATACGCGACG__CGATTATACG_CG_ACGCGATACG__CGACG__CGATTATACGCGACG__CGATTTATTTTATTATACGCGACGCGATTA__TACG_CG_ACGC_GATACGCGACG__CGATTATACGCGACG_CGTTTA__TTATACGCGACG__CGATTATACG_CG_ACGC_GATACGCGACG__CGATTATACG__CGACG__CGTT_TATT__T_TA__TT_ATACG__CGACG__CGATTATACG_CG_ACGCGATACG__CGACG__CGATTATACGCGACGCGTTTA__TTATACGCGACG__CGATTATACG_CG_ACGCGATACG__CGACG__CGATTATACGCGACG__CGTATTATTTATTTTATTATACG__CGACG__CGATTATACG_CG_ACGCGATACG__CGACG__CGATTATACGCGACGCGTTTA__TTATACGCGACG__CGATTATACG_CG_ACGCGATACG__CGACG__CGATTATACGCGACG__CGTTTATTTTATTATACGCGACG__CGATTATACG_CG_ACGCGATACG__CGACG__CGATTATACGCGACGCGTTTA__TTATACGCGACG__CGATTATACG_CG_ACGCGATACG__CGACG__CGATTATACGCGACG__CGTT_ATTATTTATTTTATTATACGCGACGCGATTATACGCG_ACG_CGATACGC_G_ACG_CG_AT_TATACGCGACG_CGTTTA__TTATACGCGACG__CGATTATACG_CG_ACGC_GATACGCGACG__CGATTATACG__CGACG__CGTT_TATT__T_TA__TT_ATACG__CGACG__CGATTATACG_CG_ACGCGATACG__CGACG__CGATTATACGCGACGCGTTTA__TTATACGCGACG__CGATTATACG_CG_ACGCGATACG__CGACG__CGATTATACGCGACG__CGTATTATTTATTTTATTATACG__CGACG__CGATTATACG_CG_ACGCGATACG__CGACG__CGATTATACGCGACGCGTTTA__TTATACGCGACG__CGATTATACG_CG_ACGCGATACG__CGACG__CGATTATACGCGACG__CGTTTATTTTATTATACGCGACG__CGATTATACG_CG_ACGCGATACG__CGACG__CGATTATACGCGACGCGTTTA__TTATACGCGACG__CGATTATACG_CG_ACGCGATACG__CGACG__CGATTATACGCGACG__CGATTTATTTTATTATACGCGACGCGATTA__TACG_CG_ACGC_GATACGCGACG__CGATTATACGCGACG_CGTTTA__TTATACGCGACG__CGATTATACG_CG_ACGC_GATACGCGACG__CGATTATACG__CGACG__CGTT_TATT__T_TA__TT_ATACG__CGACG__CGATTATACG_CG_ACGCGATACG__CGACG__CGATTATACGCGACGCGTTTA__TTATACGCGACG__CGATTATACG_CG_ACGCGATACG__CGACG__CGATTATACGCGACG__CGTATTATTTATTTTATTATACG__CGACG__CGATTATACG_CG_ACGCGATACG__CGACG__CGATTATACGCGACGCGTTTA__TTATACGCGACG__CGATTATACG_CG_ACGCGATACG__CGACG__CGATTATACGCGACG__CGTTTATTTTATTATACGCGACG__CGATTATACG_CG_ACGCGATACG__CGACG__CGATTATACGCGACGCGTTTA__TTATACGCGACG__CGATTATACG_CG_ACGCGATACG__CGACG__CGATTATACG_CG_ACGCG_')"
      ]
     },
     "execution_count": 10,
     "metadata": {},
     "output_type": "execute_result"
    }
   ],
   "source": [
    "output1"
   ]
  }
 ],
 "metadata": {
  "datalore": {
   "base_environment": "default",
   "computation_mode": "JUPYTER",
   "package_manager": "pip",
   "packages": [
    {
     "name": "psutil",
     "source": "PIP",
     "version": "5.9.4"
    }
   ],
   "version": 1
  },
  "kernelspec": {
   "display_name": "Python 3.8.8 ('base')",
   "language": "python",
   "name": "python3"
  },
  "language_info": {
   "codemirror_mode": {
    "name": "ipython",
    "version": 3
   },
   "file_extension": ".py",
   "mimetype": "text/x-python",
   "name": "python",
   "nbconvert_exporter": "python",
   "pygments_lexer": "ipython3",
   "version": "3.8.8"
  },
  "vscode": {
   "interpreter": {
    "hash": "a5887580c7cbb0fe8c117cf89484cb0db59155905523768f16ba2f70bd8e79c7"
   }
  }
 },
 "nbformat": 4,
 "nbformat_minor": 4
}
