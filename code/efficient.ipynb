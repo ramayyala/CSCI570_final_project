{
 "cells": [
  {
   "cell_type": "code",
   "execution_count": 1,
   "metadata": {},
   "outputs": [],
   "source": [
    "import sys \n",
    "import numpy as np\n",
    "from resource import * \n",
    "import time\n",
    "import psutil\n",
    "import os "
   ]
  },
  {
   "cell_type": "code",
   "execution_count": null,
   "metadata": {},
   "outputs": [],
   "source": [
    "def input_read(file):\n",
    "    base_strings = []\n",
    "    index_1 = []\n",
    "    index_2 = []\n",
    "    j=0\n",
    "    k=0\n",
    "    string_counter=0\n",
    "    with open(file,\"r\") as f:\n",
    "        for line in f.readlines():\n",
    "            #remove all whitespaces in text file from reading in line by line \n",
    "            line=line.strip()\n",
    "            # select only the base sequence to append to the sequence list \n",
    "            if not line.isnumeric():\n",
    "                base_strings.append(line)\n",
    "                #counter to make sure we are only appending strings not not the indices \n",
    "                string_counter+=1\n",
    "            ##if the line is not a base sequence, then it is an index\n",
    "            else:\n",
    "                #if the string counter ==2, then that means are appending the second set of indices\n",
    "                if string_counter == 2:\n",
    "                    index_2.append(int(line))\n",
    "                    k+=1\n",
    "                #if the string !=2, then that means we are appending the first set of indices \n",
    "                else:\n",
    "                    index_1.append(int(line))\n",
    "                    j+=1\n",
    "    return base_strings,index_1,index_2,k,j"
   ]
  },
  {
   "cell_type": "code",
   "execution_count": null,
   "metadata": {},
   "outputs": [],
   "source": [
    "def generate_sequences(base_strings,index_1,index_2,k,j):\n",
    "    sequences=[]\n",
    "    seq1=base_strings[0]\n",
    "    seq2=base_strings[1]\n",
    "    ##check if its string 1 or string 2 we are using \n",
    "    for i in index_1:\n",
    "        seq1 = seq1[0:i+1] + seq1 + seq1[i+1:]\n",
    "    if len(seq1) == (2**j)*len(base_strings[0]):\n",
    "        sequences.append(seq1)\n",
    "    for i in index_2:\n",
    "        seq2 = seq2[0:i+1] + seq2 + seq2[i+1:]\n",
    "    if len(seq2) == (2**k)*len(base_strings[1]):   \n",
    "        sequences.append(seq2)\n",
    "    return sequences\n",
    "\n",
    "        "
   ]
  },
  {
   "cell_type": "code",
   "execution_count": null,
   "metadata": {},
   "outputs": [],
   "source": [
    "def mismatch_penalty(base_1,base_2):\n",
    "    nucs=\"ACGT\"\n",
    "    index_1=nucs.index(base_1)\n",
    "    index_2=nucs.index(base_2)\n",
    "    mismatch_matrix = [[0,110,48,94],\n",
    "                        [110,0,118,48],\n",
    "                        [48,118,0,110],\n",
    "                        [94,48,110,0]]\n",
    "    return mismatch_matrix[index_1][index_2]"
   ]
  }
 ],
 "metadata": {
  "kernelspec": {
   "display_name": "Python 3.9.7 ('base')",
   "language": "python",
   "name": "python3"
  },
  "language_info": {
   "codemirror_mode": {
    "name": "ipython",
    "version": 3
   },
   "file_extension": ".py",
   "mimetype": "text/x-python",
   "name": "python",
   "nbconvert_exporter": "python",
   "pygments_lexer": "ipython3",
   "version": "3.9.7"
  },
  "orig_nbformat": 4,
  "vscode": {
   "interpreter": {
    "hash": "a5887580c7cbb0fe8c117cf89484cb0db59155905523768f16ba2f70bd8e79c7"
   }
  }
 },
 "nbformat": 4,
 "nbformat_minor": 2
}
